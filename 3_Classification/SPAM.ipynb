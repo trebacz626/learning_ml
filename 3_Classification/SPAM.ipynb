{
 "cells": [
  {
   "cell_type": "code",
   "execution_count": 26,
   "metadata": {},
   "outputs": [],
   "source": [
    "import mailparser\n",
    "import numpy as np\n",
    "import os\n",
    "import email\n",
    "import email.policy"
   ]
  },
  {
   "cell_type": "code",
   "execution_count": 31,
   "metadata": {},
   "outputs": [],
   "source": [
    "def get_data():\n",
    "    SPAM = []\n",
    "    NON_SPAM = []\n",
    "    for file in os.listdir(\"./data/spam\"):\n",
    "        with open(os.path.join(\"./data/spam\", file),\"rb\" ) as f:\n",
    "            body = email.parser.BytesParser(policy=email.policy.default).parse(f)\n",
    "            SPAM.append(body)\n",
    "    print(\"Spam is ready\")\n",
    "    for file in os.listdir(\"./data/easy_ham\"):\n",
    "        with open(os.path.join(\"./data/easy_ham\",file),\"rb\") as f:\n",
    "            body = email.parser.BytesParser(policy=email.policy.default).parse(f)\n",
    "            NON_SPAM.append(body)\n",
    "    Y = [1 for i in range(len(SPAM))]+[0 for i in range(len(NON_SPAM))]\n",
    "    return np.array(SPAM+NON_SPAM),np.array(Y)"
   ]
  },
  {
   "cell_type": "code",
   "execution_count": 32,
   "metadata": {},
   "outputs": [
    {
     "name": "stdout",
     "output_type": "stream",
     "text": [
      "Spam is ready\n"
     ]
    }
   ],
   "source": [
    "X,Y = get_data()"
   ]
  },
  {
   "cell_type": "code",
   "execution_count": 47,
   "metadata": {},
   "outputs": [
    {
     "data": {
      "text/plain": [
       "'Freedombuilder Advertising Services® can put your product or service instantly \\ninto the hands of millions of prospects!\\n\\xa0\\n\"Many business people are finding out that they can now advertise \\nin ways that they never could have afforded in the past.\\xa0 The cost \\nof sending mass e-mail is extremely low, and the response rate is \\nhigh and quick.\" \\n- USA TODAY\\n\\xa0\\n\" Sanford Wallace says he has made over a Million dollars using bulk email\"\\n- WALL STREET JOURNAL\\n~~~~~~~~~~~~~~~~~~~~\\n\\xa0\\nSince 1998, Freedombuilder Advertising Services has provided bulk email marketing \\nto thousands of well-satisfied customers. We offer the most competitive prices in the \\nindustry, made possible by our high percentage of repeat business. We have the \\nmost advanced direct email technology employed by only a knowledgeable few \\nin the world.\\n\\xa0\\nWe have over 260 million active email addresses, increasing our list at the rate of \\n30-50 million per month. You will have instant guaranteed results, something no other \\nform of marketing can claim. Our turn around time is a remarkable 24 hours.\\n\\xa0\\nOur email addresses are sorted, cleaned, and filtered for a very profitable \\nmarketing campaign. \\n\\xa0\\nWe guarantee the lowest prices with a proven track record.\\n\\xa0\\nBest of ALL, Freedombuilder Advertising Services® can be used as a \\n100% TAX WRITE OFF for your Business!\\n\\xa0\\n\\xa01) Let\\'s say you... Sell a $24.95 PRODUCT or SERVICE.\\n\\xa02) Let\\'s say you... Mass Email to 1,000,000 PEOPLE DAILY.\\n\\xa03) Let\\'s say you... Receive JUST 1 ORDER for EVERY 2,500 EMAILS.\\n\\xa0\\n\\xa0CALCULATION OF YOUR EARNINGS BASED ON THE ABOVE STATISTICS:\\n\\xa0[Day 1]: $9,980\\xa0 [Week 1]: $69,860\\xa0 [Month 1]: $279,440\\n\\xa0\\nNow you can see how bulk email advertising works, and how \\nFreedombuilder Advertising Services® can help YOU...!\\n~~~~~~~~~~~~~~~~~~~~~~~~~~~~~~~~~~~~~~~\\nOur Prices List:\\n\\xa0\\n200,000 emails: $100\\n1,000,000 emails $300\\n2,000,000 emails $400\\n3,000,000 emails $500\\n4,000,000 emails $600\\n5,000,000 emails $700\\n10,000,000 emails $1250\\nOVER 10 Million - Please inquire\\n\\xa0\\nPrices above are for 100% DELIVERED\\nEmails, with your message and subject line.\\n\\xa0\\nPlease include this information with your order for faster service!\\n-------------------------------------------------------------------------------------------------------------------\\n\\xa0\\nName: _______________________________\\nAddress:______________________________\\nPhone Number:_________________________\\nE Mail Address:_________________________\\n\"finished, ready to be sent ad\", on a 3.5 floppy disk.\\n\\xa0\\nPayable by: US Cash, Certified Cheque, or International Money \\nOrder to:\\n\\nFreedom Builder Advertising Services\\nSuite 2058 #3, 9899 112th Avenue\\nGrande Prairie, AB, Canada\\nT8V-7T2\\n-----------------------------------------------------------------------------------------------------------------------\\n\\xa0\\nFor order inquiries or extended information please call or email us:\\nVoice/Fax-253-660-3853 (Limited to 30 secs)\\nCustomer Service (780) 513-2166\\nEmail: freedombuilder@btamail.net.cn\\n\\nBest Regards, And Have A Blessed Day!\\nFreedombuilder Advertising Services®\\n~~~~~~~~~~~~~~~~~~~~~~~~~~~~~~~~~~~~~~~~~~~~\\n\\xa0\\nUnder Bill s.1618 TITLE III passed by the 105th U.S. Congress this letter \\nis not considered \"spam\" as long as we include: 1) contact information and, \\n2) the way to be removed from future mailings.\\n\\xa0\\nIf this email has reached you in error or you wish to be removed from our \\nmailing list please send your \"remove request\" to: 432rfe3@eudoramail.com\\n\\xa0\\nWe honor all remove requests.'"
      ]
     },
     "execution_count": 47,
     "metadata": {},
     "output_type": "execute_result"
    }
   ],
   "source": [
    "X[100].get_content().strip()"
   ]
  },
  {
   "cell_type": "code",
   "execution_count": null,
   "metadata": {},
   "outputs": [],
   "source": []
  }
 ],
 "metadata": {
  "kernelspec": {
   "display_name": "Python 3.7.4 64-bit ('base': conda)",
   "language": "python",
   "name": "python37464bitbaseconda75046f7b29bf4eb29f2a7995698ba00c"
  },
  "language_info": {
   "codemirror_mode": {
    "name": "ipython",
    "version": 3
   },
   "file_extension": ".py",
   "mimetype": "text/x-python",
   "name": "python",
   "nbconvert_exporter": "python",
   "pygments_lexer": "ipython3",
   "version": "3.7.4"
  }
 },
 "nbformat": 4,
 "nbformat_minor": 2
}
